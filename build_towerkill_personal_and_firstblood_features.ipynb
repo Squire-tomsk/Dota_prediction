{
 "cells": [
  {
   "cell_type": "code",
   "execution_count": 8,
   "metadata": {
    "collapsed": false
   },
   "outputs": [],
   "source": [
    "import bz2\n",
    "import json\n",
    "import pandas\n",
    "import collections\n",
    "import argparse\n",
    "\n",
    "def filter_events(events, time_point=60*5):\n",
    "    return [event for event in events if event['time'] <= time_point]\n",
    "\n",
    "def get_comand(player_id):\n",
    "    if (player_id)/5==0:\n",
    "        return 'r'\n",
    "    else:\n",
    "        return 'd'\n",
    "\n",
    "def extract_match_features(match, time_point=60*5):\n",
    "    feats = [\n",
    "        ('match_id', match['match_id']),\n",
    "    ]\n",
    "    \n",
    "    towerkill_player_id = -1\n",
    "    for objectiv in match['objectives']:\n",
    "        if objectiv['time'] <= 300:\n",
    "            if objectiv['type'] == 'tower_kill':\n",
    "                towerkill_player_id = objectiv['player']\n",
    "        \n",
    "    first_blood_palyer = -1\n",
    "    first_looser_palyer = -1\n",
    "    min_time = time_point\n",
    "    for player_id,player in enumerate(match['players']):\n",
    "        kills = filter_events(player['kills_log'], time_point)\n",
    "        for kill in kills:\n",
    "            if kill['time'] < min_time and kill['player']!=None:\n",
    "                first_blood_palyer = player_id\n",
    "                first_looser_palyer = kill['player']\n",
    "        \n",
    "    for i in range(0,10):\n",
    "        if i != towerkill_player_id:\n",
    "            feats += [('%s_player%i_towerkill' % (get_comand(i),(i%5+1)),0)]\n",
    "        else:\n",
    "            feats += [('%s_player%i_towerkill' % (get_comand(i),(i%5+1)),1)]\n",
    "        if i != first_blood_palyer:\n",
    "            feats += [('%s_player%i_firstblood' % (get_comand(i),(i%5+1)),0)]\n",
    "        else:\n",
    "            feats += [('%s_player%i_firstblood' % (get_comand(i),(i%5+1)),1)]\n",
    "        if i != first_looser_palyer:\n",
    "            feats += [('%s_player%i_firstloose' % (get_comand(i),(i%5+1)),0)]\n",
    "        else:\n",
    "            feats += [('%s_player%i_firstloose' % (get_comand(i),(i%5+1)),1)]\n",
    "    return collections.OrderedDict(feats)\n",
    "\n",
    "\n",
    "def iterate_matches(matches_filename):\n",
    "    with bz2.BZ2File(matches_filename) as f:\n",
    "        for n, line in enumerate(f):\n",
    "            match = json.loads(line)\n",
    "            yield match\n",
    "            if (n+1) % 1000 == 0:\n",
    "                print 'Processed %d matches' % (n+1)\n",
    "\n",
    "                \n",
    "def create_table(matches_filename, time_point):\n",
    "    df = {}\n",
    "    fields = None\n",
    "    for match in iterate_matches(matches_filename):\n",
    "        features = extract_match_features(match, time_point)\n",
    "        if fields is None:\n",
    "            fields = features.keys()\n",
    "            df = {key: [] for key in fields}    \n",
    "        for key, value in features.iteritems():\n",
    "            df[key].append(value)\n",
    "    df = pandas.DataFrame.from_records(df).ix[:, fields].set_index('match_id').sort_index()\n",
    "    return df"
   ]
  },
  {
   "cell_type": "code",
   "execution_count": null,
   "metadata": {
    "collapsed": false
   },
   "outputs": [
    {
     "name": "stdout",
     "output_type": "stream",
     "text": [
      "Processed 1000 matches\n",
      "Processed 2000 matches\n",
      "Processed 3000 matches\n",
      "Processed 4000 matches\n",
      "Processed 5000 matches\n",
      "Processed 6000 matches\n"
     ]
    }
   ],
   "source": [
    "features_table = create_table(\"matches.jsonlines.bz2\", 5*60)\n",
    "features_table.to_csv(\"data/tower_personal_and_firstblood_features.csv\")"
   ]
  },
  {
   "cell_type": "code",
   "execution_count": null,
   "metadata": {
    "collapsed": true
   },
   "outputs": [],
   "source": []
  }
 ],
 "metadata": {
  "kernelspec": {
   "display_name": "Python 2",
   "language": "python",
   "name": "python2"
  },
  "language_info": {
   "codemirror_mode": {
    "name": "ipython",
    "version": 2
   },
   "file_extension": ".py",
   "mimetype": "text/x-python",
   "name": "python",
   "nbconvert_exporter": "python",
   "pygments_lexer": "ipython2",
   "version": "2.7.11"
  }
 },
 "nbformat": 4,
 "nbformat_minor": 0
}
