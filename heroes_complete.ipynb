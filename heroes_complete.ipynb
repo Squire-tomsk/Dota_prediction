{
 "cells": [
  {
   "cell_type": "code",
   "execution_count": null,
   "metadata": {
    "collapsed": true
   },
   "outputs": [],
   "source": [
    "import json\n",
    "import itertools\n",
    "import pandas as pd"
   ]
  },
  {
   "cell_type": "code",
   "execution_count": null,
   "metadata": {
    "collapsed": false
   },
   "outputs": [],
   "source": [
    "def getCompleteHeroes():\n",
    "    heroes_id = pd.read_csv('./dictionaries/heroes.csv')\n",
    "    heroes_info = pd.read_csv('./dictionaries/heroes_complete.csv')\n",
    "    heroes_id = heroes_id.drop(['name'], axis=1)\n",
    "    heroes_info.rename(columns={'HERO': 'localized_name'}, inplace=True)\n",
    "    return pd.merge(heroes_id, heroes_info, on='localized_name').drop(['localized_name'], axis=1)"
   ]
  },
  {
   "cell_type": "code",
   "execution_count": null,
   "metadata": {
    "collapsed": false
   },
   "outputs": [],
   "source": [
    "def mergeHeroes(column, heroes_complete):\n",
    "    name = list(column)[0]\n",
    "    heroes_complete.rename(columns={'id': name}, inplace=True)\n",
    "    ret = pd.merge(column, heroes_complete, how='left', on=name)\n",
    "    heroes_complete.rename(columns={name: 'id'}, inplace=True)\n",
    "    return ret"
   ]
  },
  {
   "cell_type": "code",
   "execution_count": null,
   "metadata": {
    "collapsed": false
   },
   "outputs": [],
   "source": [
    "#need to be a list of DataFrames of exactly 1 column\n",
    "def replaceAllHeroes(columns):\n",
    "    heroes_complete = getCompleteHeroes()\n",
    "    return [mergeHeroes(column, heroes_complete) for column in columns]\n",
    "        \n",
    "        "
   ]
  },
  {
   "cell_type": "code",
   "execution_count": null,
   "metadata": {
    "collapsed": false
   },
   "outputs": [],
   "source": [
    "data = pd.read_csv('features.csv')"
   ]
  },
  {
   "cell_type": "code",
   "execution_count": null,
   "metadata": {
    "collapsed": false
   },
   "outputs": [],
   "source": [
    "heroes = [pd.DataFrame(data[side + str(i) + '_hero']) for i, side in itertools.product(range(1, 5), ['r', 'd'])]\n",
    "heroes = replaceAllHeroes(heroes)"
   ]
  },
  {
   "cell_type": "code",
   "execution_count": null,
   "metadata": {
    "collapsed": false
   },
   "outputs": [],
   "source": [
    "heroes[0]"
   ]
  }
 ],
 "metadata": {
  "kernelspec": {
   "display_name": "Python 2",
   "language": "python",
   "name": "python2"
  },
  "language_info": {
   "codemirror_mode": {
    "name": "ipython",
    "version": 2
   },
   "file_extension": ".py",
   "mimetype": "text/x-python",
   "name": "python",
   "nbconvert_exporter": "python",
   "pygments_lexer": "ipython2",
   "version": "2.7.11"
  }
 },
 "nbformat": 4,
 "nbformat_minor": 0
}
